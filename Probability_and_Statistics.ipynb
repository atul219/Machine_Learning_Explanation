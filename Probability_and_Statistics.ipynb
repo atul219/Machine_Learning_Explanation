{
 "cells": [
  {
   "cell_type": "markdown",
   "metadata": {},
   "source": [
    "# Probability and Statistics"
   ]
  },
  {
   "cell_type": "markdown",
   "metadata": {},
   "source": [
    "**To understand probability and statistics we need to understand basic terminology**"
   ]
  },
  {
   "cell_type": "markdown",
   "metadata": {},
   "source": [
    "## Probability"
   ]
  },
  {
   "cell_type": "markdown",
   "metadata": {},
   "source": [
    "### Population"
   ]
  },
  {
   "cell_type": "markdown",
   "metadata": {},
   "source": [
    "Population means the total number of observation but we can only refer observations as a population if we have very large data or observations.\n",
    "\n",
    "example -> We flip a coin for 1 crore times then the total number of observations will be very large and then it will be known as \"POPULATION\""
   ]
  },
  {
   "cell_type": "markdown",
   "metadata": {},
   "source": [
    "### Sample"
   ]
  },
  {
   "cell_type": "markdown",
   "metadata": {},
   "source": [
    "A sample is a small part of Population.\n",
    "\n",
    "example -> We flip a coin for 10 times then it will be called as \"SAMPLE\" "
   ]
  },
  {
   "cell_type": "markdown",
   "metadata": {},
   "source": [
    "**Note** -> In Machine Learning we perform all the tasks and algorithms on a \"<u>Sample</u>\". Because it's not possible to collect data of a population."
   ]
  },
  {
   "cell_type": "markdown",
   "metadata": {},
   "source": [
    "### Frequency\n",
    "\n",
    "A Number of times an event is occurring is known as Frequency."
   ]
  },
  {
   "cell_type": "markdown",
   "metadata": {},
   "source": [
    "### Relative Frequency"
   ]
  },
  {
   "cell_type": "markdown",
   "metadata": {},
   "source": [
    "Relative Frequency is the ration of the total number of a favorable outcome and total number of observations\n",
    "\n",
    "$$Relative Frequency =  \\frac{Total\\; Number\\; of\\; Favourable\\; Outcome}{Total\\; Number\\; of\\; Observations}$$\n",
    "<br>\n",
    "$$OR$$\n",
    "\n",
    "$$Relative Frequency = \\frac{Frequency}{Total\\;Noumber\\;of\\;Observations}$$\n",
    "\n",
    "**Note** -> Number of Observations will be Sample."
   ]
  },
  {
   "cell_type": "markdown",
   "metadata": {},
   "source": [
    "### Probability"
   ]
  },
  {
   "cell_type": "markdown",
   "metadata": {},
   "source": [
    "Probability is the limiting case of Relative Frequency where sample approaches population."
   ]
  },
  {
   "cell_type": "markdown",
   "metadata": {},
   "source": [
    "### Random Variable"
   ]
  },
  {
   "cell_type": "markdown",
   "metadata": {},
   "source": [
    "- The Variables which can take different values are known as <u>Random Variable</u>\n",
    "\n",
    "- There are two types of Random Variable\n",
    "    - Discrete Random Variables\n",
    "    - Continous Random Variables\n",
    "  \n"
   ]
  },
  {
   "cell_type": "markdown",
   "metadata": {},
   "source": [
    "**1. Discrete Random Variable:** \n",
    "\n",
    "Random Variables which can take Integer Values are known as Discrete Random Variables.\n",
    "    \n",
    "Example, We toss a coin and there are two possible outcomes Head and Tail and these are Random variable and the values they can take is either 0 or 1."
   ]
  },
  {
   "cell_type": "markdown",
   "metadata": {},
   "source": [
    "**2. Continuous Random variable:**\n",
    "\n",
    "Random Variables which can continuous value(1.1, 1.2, 1.3, 1.4,.....) are known as Continuous Random Variables.\n",
    "\n",
    "Example, Height, Weight and etc.\n"
   ]
  },
  {
   "cell_type": "markdown",
   "metadata": {},
   "source": [
    "### Conditional Probability"
   ]
  },
  {
   "cell_type": "markdown",
   "metadata": {},
   "source": [
    "Example, Let's take an example of students in which some are interested in Machine learning and the rest of the students are not interested.\n",
    "\n",
    "|Students| Interested | Not Interested |\n",
    "|--------|------------|----------------|\n",
    "|Boys    |23          |22              |\n",
    "|Girls   |25          |30              |\n",
    "\n",
    "Now Conditional Probability to find? \n",
    "\n",
    "In this example, we need to find the probability of not interested student on a <u>Condtion</u> student should be a boy.\n",
    "\n",
    "So we can calculate the probability P(Student Not Interested | Student should be a boy) :\n",
    "\n",
    "\n",
    "P(Student Not Interested | Student should be a boy) = P(Student will be male and not interested in Machine Learning) / P(Student should be a boy) \n",
    "\n",
    "P(Student Not Interested | Student should be a boy) = 22/45\n",
    "\n",
    "**Formula for Conditional Probability**\n",
    "\n",
    "$$P(A|B) = \\frac{P({A}\\cap{B})}{P(A)}$$\n",
    "\n",
    "\n",
    "**If Events are Independent**\n",
    "$$P(A|B) = P(A)$$\n",
    "<br>\n",
    "$$P({A}\\cap{B}) = P(A).P(B)$$\n",
    "\n",
    "\n",
    "\n",
    "\n"
   ]
  },
  {
   "cell_type": "markdown",
   "metadata": {},
   "source": [
    "### Independent and Dependent Event\n",
    "\n",
    "When the probability of an upcoming event does not changes even one event has already occurred when the events are known as **Independent Event**.\n",
    "\n",
    "When the probability of an upcoming event changes from the event which is already occurred when the events are known as **Dependent Event**.\n"
   ]
  },
  {
   "cell_type": "markdown",
   "metadata": {},
   "source": [
    "## Probability Distributions"
   ]
  },
  {
   "cell_type": "markdown",
   "metadata": {},
   "source": [
    "A Mathematical Function in which we pass some random variable and it gives the output as a probability of that particular random variable.\n",
    "\n",
    "1. Binomial Probability Distribution\n",
    "2. Piosson Distribution\n",
    "3. Gaussian Distribution"
   ]
  },
  {
   "cell_type": "markdown",
   "metadata": {},
   "source": [
    "#### Binomial Distribution\n",
    "\n",
    "Random Variables in Binomial Distribution will be Discrete Random Variables(Integers).\n",
    "\n",
    "Probability is Given By:\n",
    "\n",
    "$$P(X = K) = {n \\choose k} \\cdot p^k \\cdot (1-p)^{n-k}$$\n",
    "\n",
    "X is Random Variable\n",
    "\n",
    "k is Number of the Desired Outcome\n",
    "\n",
    "n is Total number of times experiment is performed\n",
    "\n",
    "p is the probability of the Desired Outcome\n"
   ]
  },
  {
   "cell_type": "markdown",
   "metadata": {},
   "source": [
    "#### Poisson Distribution\n",
    "\n",
    "Random Variables in Poisson Distribution are Discrete Random Variables but occurrences of Random Variable will be in a given time period or space.\n",
    "\n",
    "$$P(X = K) = \\frac{e^{-\\lambda}\\lambda^{k}}{k!}$$\n",
    "\n",
    "k will be random variable such as mean etc"
   ]
  },
  {
   "cell_type": "markdown",
   "metadata": {},
   "source": [
    "#### Gaussian Distribution\n",
    "\n",
    "Random Variable in Gaussian Distribution will Continuous Random Variable.\n",
    "\n",
    "$$P(X = K) = \\int\\limits_a^b  \\frac{1}{\\sqrt{2\\pi\\sigma^2}} \\exp{ \\bigg[-\\frac{1}{2}\\bigg( \\frac{k-\\mu}{\\sigma}\\bigg)^2 \\bigg] } \\, dx$$\n",
    "\n",
    "$\\sigma$ is Standard Deviation\n",
    "\n",
    "$\\mu$ is Mean\n",
    "\n",
    "k is Random Variable"
   ]
  },
  {
   "cell_type": "markdown",
   "metadata": {},
   "source": [
    "## Statistics"
   ]
  },
  {
   "cell_type": "markdown",
   "metadata": {},
   "source": [
    "**What do you mean by Statistics ?**\n",
    "\n",
    "Suppose, we have a large dataset and we retrieve some useful knowledge about data such as mean, variance, standard deviation etc."
   ]
  },
  {
   "cell_type": "markdown",
   "metadata": {},
   "source": [
    "### Two Types of Statistics\n",
    "\n",
    "**1. Descriptive Statistics**\n",
    "\n",
    "**2. Inferential Statistics** \n",
    "<br><br>"
   ]
  },
  {
   "cell_type": "markdown",
   "metadata": {},
   "source": [
    "**1.Descriptive Statistics**\n",
    "\n",
    "In this particular type of statistics we will talk about mean, median, mode, variance, standard deviation.\n",
    "<br><br><br>\n",
    "**<i>Mean</i>**\n",
    "\n",
    "Sum of all values in a data divided by the total number of values in a data.\n",
    "\n",
    "Example, Weight of students = 20 , 30, 40, 50\n",
    "\n",
    "$$Mean = (20 + 30 + 40 + 50) / 5$$\n",
    "\n",
    "$$Mean = 28$$\n",
    "\n",
    "\n",
    "$$Mean = \\frac{Sum\\; of\\; all\\; values\\; in\\; a\\; dataset}{Total\\; Number\\; of\\; values\\; in\\; dataset}$$\n",
    "<br><br>\n",
    "\n",
    "**<i>Median</i>**\n",
    "\n",
    "Middle value of the dataset\n",
    "\n",
    "Example, Marks of Student = 40,50,60,70,80\n",
    "\n",
    "$$Median  = 60$$\n",
    "\n",
    "$$Median = \\frac{n\\;+\\;1}{2}\\;\\;\\;\\;\\; (if\\; n\\; is\\; odd) $$\n",
    "\n",
    "$$Median  = \\frac{n}{2}\\;\\;\\;\\;\\; (if\\; n\\; is\\; even)$$\n",
    "<br><br>\n",
    "\n",
    "**<i>Variance</i>**\n",
    "\n",
    "The average of the squared differences from the Mean.\n",
    "\n",
    "Example, Age of children = 5,7,9,12\n",
    "\n",
    "$$Mean = 8.25$$\n",
    "\n",
    "$$Variance\\;(\\sigma^2) = \\frac{(5-8.25)^2 + (7-8.25)^2 + (9-8.25)^2 + (12-8.25)^2}{4}$$\n",
    "\n",
    "$$Variance\\;(\\sigma^2) = 2.25$$\n",
    "<br><br>\n",
    "**<i>Standard Deviation</i>**\n",
    "\n",
    "Is measure how spread out the data values are\n",
    "\n",
    "$$Standard\\; Deviation = \\sqrt{Variance}$$\n"
   ]
  },
  {
   "cell_type": "markdown",
   "metadata": {},
   "source": [
    "<br><br>\n",
    "**2.Inferential Statistics**\n",
    "\n",
    "We will take a random sample from the data and will predict the properties of the population."
   ]
  },
  {
   "cell_type": "markdown",
   "metadata": {},
   "source": []
  }
 ],
 "metadata": {
  "kernelspec": {
   "display_name": "Python 3",
   "language": "python",
   "name": "python3"
  },
  "language_info": {
   "codemirror_mode": {
    "name": "ipython",
    "version": 3
   },
   "file_extension": ".py",
   "mimetype": "text/x-python",
   "name": "python",
   "nbconvert_exporter": "python",
   "pygments_lexer": "ipython3",
   "version": "3.6.5"
  }
 },
 "nbformat": 4,
 "nbformat_minor": 2
}
