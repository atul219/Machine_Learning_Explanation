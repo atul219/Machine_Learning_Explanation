{
 "cells": [
  {
   "cell_type": "markdown",
   "metadata": {},
   "source": [
    "## Naive Bayes Classfier"
   ]
  },
  {
   "cell_type": "markdown",
   "metadata": {},
   "source": [
    "### 1.Navie Bayes Classifier is the supervised algorithm.\n",
    "### 2. This is the most basic algorthim in the supervised classification algorithms.\n"
   ]
  },
  {
   "cell_type": "markdown",
   "metadata": {},
   "source": [
    "#### Let's take an example to understand why it is called navie and we can classify data using Naive Bayes Classifier.\n",
    "<br>\n",
    "<i>Example</i> \n",
    "\n",
    "#### We took an example of a tumor. Were we are having 2 features( Size, Radius) and one column for label(Benign / Malignant).\n",
    "\n",
    "<br>\n",
    "\n",
    "|    Size    |   Radius   |Benign / Malignant |\n",
    "|------------|------------|-------------------|\n",
    "|$S_1$       |$R_1$       |B                 |\n",
    "|$S_2$       |$R_2$       |M                 |\n",
    "|$S_3$       |$R_3$       |B                 |\n",
    "|$S_4$       |$R_4$       |B                 |\n",
    "|$S_5$       |$R_5$       |M                 |\n",
    "|.           |.           |.                 |\n",
    "|.           |.           |.                 |\n",
    "|.           |.           |.                 |\n",
    "|$S_{n-1}$   |$R_{n-1}$   |M                 |\n",
    "|$S_n$       |$R_n$       |B                 |\n",
    "\n",
    "###### B is Benign and M is Malignant\n"
   ]
  },
  {
   "cell_type": "markdown",
   "metadata": {},
   "source": []
  }
 ],
 "metadata": {
  "kernelspec": {
   "display_name": "Python 3",
   "language": "python",
   "name": "python3"
  },
  "language_info": {
   "codemirror_mode": {
    "name": "ipython",
    "version": 3
   },
   "file_extension": ".py",
   "mimetype": "text/x-python",
   "name": "python",
   "nbconvert_exporter": "python",
   "pygments_lexer": "ipython3",
   "version": "3.6.5"
  },
  "latex_envs": {
   "LaTeX_envs_menu_present": true,
   "autoclose": false,
   "autocomplete": true,
   "bibliofile": "biblio.bib",
   "cite_by": "apalike",
   "current_citInitial": 1,
   "eqLabelWithNumbers": true,
   "eqNumInitial": 1,
   "hotkeys": {
    "equation": "Ctrl-E",
    "itemize": "Ctrl-I"
   },
   "labels_anchors": false,
   "latex_user_defs": false,
   "report_style_numbering": false,
   "user_envs_cfg": false
  }
 },
 "nbformat": 4,
 "nbformat_minor": 2
}
