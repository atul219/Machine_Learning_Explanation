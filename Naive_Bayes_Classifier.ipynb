{
 "cells": [
  {
   "cell_type": "markdown",
   "metadata": {},
   "source": [
    "## Naive Bayes Classfier"
   ]
  },
  {
   "cell_type": "markdown",
   "metadata": {},
   "source": [
    "### 1.Navie Bayes Classifier is the supervised algorithm.\n",
    "### 2. This is the most basic algorithm in the supervised classification algorithms.\n"
   ]
  },
  {
   "cell_type": "markdown",
   "metadata": {},
   "source": [
    "<b>1. Why is naive Bayes called naive?\n",
    "    \n",
    " Because this algorithm is running on a naive assumption that is all the features(columns except label) are independent</b>\n",
    "\n",
    "<b>2. This Algorithm is also called as Generative Algorithm</b>\n",
    "\n",
    "<b>3. In this we just need to calculate the probability of each case and the high probability will be our answer."
   ]
  },
  {
   "cell_type": "markdown",
   "metadata": {},
   "source": [
    "#### Let's take an example how we can classify data using Naive Bayes Classifier.\n",
    "<br>\n",
    "<i>Example</i> \n",
    "\n",
    "We took an example of a tumor. Where we are having 2 features( Size, Radius) and one column for the label(Benign / Malignant).\n",
    "\n",
    "<br>\n",
    "\n",
    "|    Size    |   Radius   |Benign / Malignant |\n",
    "|------------|------------|-------------------|\n",
    "|$S_1$       |$R_1$       |B                 |\n",
    "|$S_2$       |$R_2$       |M                 |\n",
    "|$S_3$       |$R_3$       |B                 |\n",
    "|$S_4$       |$R_4$       |B                 |\n",
    "|$S_5$       |$R_5$       |M                 |\n",
    "|.           |.           |.                 |\n",
    "|.           |.           |.                 |\n",
    "|.           |.           |.                 |\n",
    "|$S_{n-1}$   |$R_{n-1}$   |M                 |\n",
    "|$S_n$       |$R_n$       |B                 |\n",
    "\n",
    "###### B is Benign and M is Malignant\n"
   ]
  },
  {
   "cell_type": "markdown",
   "metadata": {},
   "source": [
    "<b>Step 1</b>\n",
    "\n",
    "Total number of rows = N <br>\n",
    "and let's suppose N = 1000<br>\n",
    "Separate the data in two parts Benign and Malignant, and let's assume that Benign tumor is 400 and Malignant tumor is 600 "
   ]
  },
  {
   "cell_type": "markdown",
   "metadata": {},
   "source": [
    "<b>Benign Data :</b><br><br>\n",
    "\n",
    "|    Size    |   Radius   |Benign            |        \n",
    "|------------|------------|------------------|\n",
    "|$S_1$       |$R_1$       |B                 |\n",
    "|$S_2$       |$R_2$       |B                 |\n",
    "|$S_3$       |$R_3$       |B                 |\n",
    "|$S_4$       |$R_4$       |B                 |\n",
    "|$S_5$       |$R_5$       |B                 |\n",
    "|.           |.           |.                 |\n",
    "|.           |.           |.                 |\n",
    "|.           |.           |.                 |\n",
    "\n",
    "<br><br>\n",
    "<b>Malignant Data :</b><br><br>\n",
    "\n",
    "|    Size    |   Radius   |Malignant         |\n",
    "|------------|------------|------------------|\n",
    "|$S_7$       |$R_7$       |M                 |\n",
    "|$S_8$       |$R_8$       |M                 |\n",
    "|$S_9$       |$R_9$       |M                 |\n",
    "|$S_{11}$    |$R_{11}$    |M                 |\n",
    "|$S_{12}$    |$R_{12}$    |M                 |\n",
    "|.           |.           |.                 |\n",
    "|.           |.           |.                 |\n",
    "|.           |.           |.                 |"
   ]
  },
  {
   "cell_type": "markdown",
   "metadata": {},
   "source": [
    "According to the Bayes theorem in our example to find probability of beingn or malignant<br>\n",
    "\n",
    "$$P(tumor\\;is\\; benign\\;|\\;size = S_{test} \\cap radius = R_{test}) = \\frac{p(size = S_{test} \\cap radius =  R_{test}\\;|\\;tumor\\;is\\; benign) \\cdot P(tumor\\;is\\; benign)}{p(S_{test} \\cap R_{test})}$$\n",
    "\n",
    "<br>\n",
    "In General \n",
    "\n",
    "$$  P(\\omega_j|x) = \\frac{p(x|\\omega_j) \\cdot P(\\omega_j)}{p(x)}$$"
   ]
  },
  {
   "cell_type": "markdown",
   "metadata": {},
   "source": [
    "1. Becuase label is following Binomial Distribution so we can calculate:\n",
    "\n",
    "$P(tumor\\; is\\;benign) = \\frac{Total\\;number\\;of\\;rows\\;in\\;Benign\\;data}{Total\\;number\\;of\\;rows\\;in\\;data}$\n",
    "\n",
    "<br>\n",
    "\n",
    "2. We need to check if features are following Gaussian distribution or some other distribution.\n",
    "\n",
    "let's assume that our features are Gaussian distributed.\n",
    "Then,\n",
    "\n",
    "$P(size = S_{test} \\cap R_{test}) =  \\int\\limits_a^b  \\frac{1}{\\sqrt{2\\pi}^{N}  \\sqrt{C_{xy}}}\\exp{ \\bigg[-\\frac{1}{2}\\bigg( A.T \\cdot C_{xy}^{-1}\\cdot A\\bigg) \\bigg] } $\n",
    "\n",
    "<br>\n",
    "3. Covariance Matrix ($C_{xy}$)\n",
    "\n",
    "$C_{xy} = \\sum_{i=1}^{n} (x_i - \\bar{x})(y_i - \\bar{y})$\n",
    "\n",
    "<br>\n",
    "\n",
    "4. $A =  \\begin{bmatrix}S_{test}\\;-\\; \\mu_{S}  \\\\\n",
    "R_{test}\\;-\\; \\mu_{R}\\\\\n",
    "\\end{bmatrix}$\n",
    "\n",
    "and A.T is the transpose of A and $C_{xy}^-1$ is the inverse of the covariance matrix and $\\mu_S$ is the mean of Size feature and and $\\mu_R$ is the mean of Radius feature. \n",
    "\n"
   ]
  },
  {
   "cell_type": "markdown",
   "metadata": {},
   "source": [
    "We need to calculate the probability for both tumors to be benign and for a tumor to be malignant and whichever value will be greater we can say that tumor is either benign or malignant.\n"
   ]
  },
  {
   "cell_type": "markdown",
   "metadata": {},
   "source": []
  }
 ],
 "metadata": {
  "kernelspec": {
   "display_name": "Python 3",
   "language": "python",
   "name": "python3"
  },
  "language_info": {
   "codemirror_mode": {
    "name": "ipython",
    "version": 3
   },
   "file_extension": ".py",
   "mimetype": "text/x-python",
   "name": "python",
   "nbconvert_exporter": "python",
   "pygments_lexer": "ipython3",
   "version": "3.6.5"
  },
  "latex_envs": {
   "LaTeX_envs_menu_present": true,
   "autoclose": false,
   "autocomplete": true,
   "bibliofile": "biblio.bib",
   "cite_by": "apalike",
   "current_citInitial": 1,
   "eqLabelWithNumbers": true,
   "eqNumInitial": 1,
   "hotkeys": {
    "equation": "Ctrl-E",
    "itemize": "Ctrl-I"
   },
   "labels_anchors": false,
   "latex_user_defs": false,
   "report_style_numbering": false,
   "user_envs_cfg": false
  }
 },
 "nbformat": 4,
 "nbformat_minor": 2
}
