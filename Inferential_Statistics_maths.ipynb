{
 "cells": [
  {
   "cell_type": "markdown",
   "metadata": {},
   "source": [
    "## Inferential Statistics"
   ]
  },
  {
   "cell_type": "markdown",
   "metadata": {},
   "source": [
    "In this section we are going to learn about Inferential Statistics and why do we use Inferential Statistics."
   ]
  },
  {
   "cell_type": "markdown",
   "metadata": {},
   "source": [
    "### 1. What is Inferential Statistics?\n",
    "Inferential Statistics is a branch of Statistics in which we take a random sample and predict or estimate something about population."
   ]
  },
  {
   "cell_type": "markdown",
   "metadata": {},
   "source": [
    "### 2. Why we use Inferential Statistics?\n",
    "\n",
    "a) To get the best estimator to estimate the natural parameters of a population of a probability distribution.\n",
    "\n",
    "<b>Now the next Question is what do you mean by natural parameters?</b>\n",
    "<br>\n",
    "Natural Parameters of the probability distribution are mean, median, mode, variance, standard deviation.\n",
    "\n",
    "The best estimator is also known as Minimum Variance Unbiased Estimator(MVUE).\n",
    "\n",
    "b) To take some decision regarding Quality and improve the business model and to estimate whether it will show some significant effect or not.\n",
    "\n"
   ]
  },
  {
   "cell_type": "markdown",
   "metadata": {},
   "source": [
    "### Method to Find Best Estimator\n",
    "\n",
    "###### We will apply a method called Maximum Likelihood Estimation.\n",
    "\n",
    "Q. What is Likelihood Function?\n",
    "\n",
    "Likelihood Function is a probability distributiin function which tells you the probability of the following values.\n",
    "\n",
    "For Exampple, We are going to find best estimator of mean and standard deviation for guassian distribution.\n",
    "\n",
    "Suppose some random sample is selected from Sample Size N\n",
    "$$x_1\\;,x_2\\;,x_3\\;.....x_n$$"
   ]
  },
  {
   "cell_type": "markdown",
   "metadata": {},
   "source": [
    "and probability for every single value of x can be written is \n",
    "\n",
    "$${P(X = x_1\\;)}\\; , {P(X = x_2\\;)}\\; , {P(X = x_3\\;)}\\; , .....{P(X = x_n\\;)}$$\n"
   ]
  },
  {
   "cell_type": "markdown",
   "metadata": {},
   "source": [
    "$${P(X = x)}\\; = {P(X = x_1\\;)}\\cap {P(X = x_2\\;)}\\cap {P(X = x_3\\;)}\\cap , .....\\cap{P(X = x_n\\;)}$$\n"
   ]
  },
  {
   "cell_type": "markdown",
   "metadata": {},
   "source": [
    "And we take an assumption that all events are independent event then we can calculate probability by:\n",
    "\n",
    "$${P(X = x)}\\; = {P(X = x_1\\;)}\\cdot {P(X = x_2\\;)}\\cdot{P(X = x_3\\;)}\\cdot , ......{P(X = x_n\\;)}$$"
   ]
  },
  {
   "cell_type": "markdown",
   "metadata": {},
   "source": [
    "and every sample taken from gaussian distribution so probability for every random varibale will be\n",
    "<br>\n",
    "\\begin{equation}\\label{eq:}\n",
    "L(\\mu , \\sigma) = \\left[\\int\\limits_a^b  \\frac{1}{\\sqrt{2\\pi\\sigma^2}} \\exp{ \\bigg[-\\frac{1}{2}\\bigg( \\frac{x_1-\\mu}{\\sigma}\\bigg)^2 \\bigg] } \\, dx\\right]\\cdot\\left[\\int\\limits_a^b  \\frac{1}{\\sqrt{2\\pi\\sigma^2}} \\exp{ \\bigg[-\\frac{1}{2}\\bigg( \\frac{x_2-\\mu}{\\sigma}\\bigg)^2 \\bigg] } \\, dx\\right]\\cdot \\cdot  \\left[\\int\\limits_a^b  \\frac{1}{\\sqrt{2\\pi\\sigma^2}} \\exp{ \\bigg[-\\frac{1}{2}\\bigg( \\frac{x_n-\\mu}{\\sigma}\\bigg)^2 \\bigg] } \\, dx\\right]\n",
    "\\end{equation}\n"
   ]
  },
  {
   "cell_type": "markdown",
   "metadata": {},
   "source": [
    "This is known as Likelihood Function.\n",
    "<br>\n",
    "$$L(\\mu , \\sigma) = \\frac{1}{\\sqrt{2\\pi\\sigma^2}^N} \\exp{ \\bigg[-\\frac{1}{2}}{\\sum\\limits_{i_i = 1}^{N} {x_i - \\mu} \\over \\sigma^2} \\bigg] \\,$$\n"
   ]
  },
  {
   "cell_type": "markdown",
   "metadata": {},
   "source": [
    "Now taking log both side\n",
    "<br>\n",
    "$$\\log L(\\mu , \\sigma) = \\log\\bigg[\\frac{1}{(\\sqrt{2\\pi\\sigma^2)}^N}\\bigg] - {\\sum\\limits_{i_i = 1}^{N} {x_i - \\mu} \\over \\sigma^2} $$ \n"
   ]
  },
  {
   "cell_type": "markdown",
   "metadata": {},
   "source": [
    "Now Differentiate this equation with respect to $\\mu$ (mean)\n",
    "<br>\n",
    "$${{\\delta}\\over {\\delta\\mu}} {\\log L(\\mu,\\sigma)} =  {\\sum\\limits_{i_i = 1}^{N}{x_i - \\mu} \\over \\sigma^2}$$"
   ]
  },
  {
   "cell_type": "markdown",
   "metadata": {},
   "source": [
    "now \n",
    "$$E[\\mu]  = {\\sum\\limits_{i_i = 1}{N}{x_i} \\over {N}}$$"
   ]
  },
  {
   "cell_type": "markdown",
   "metadata": {},
   "source": [
    "this is the best estimator of mean for gaussian distribution and denoted by $E[\\mu]$\n",
    "\n"
   ]
  },
  {
   "cell_type": "markdown",
   "metadata": {},
   "source": [
    "And best standard deviation is\n",
    "<br>\n",
    "\n",
    "$$E[\\sigma] = \\sqrt{\\sum\\limits_{i_i = 1}^{N}{X_i - \\mu}\\over {N}}$$"
   ]
  },
  {
   "cell_type": "code",
   "execution_count": null,
   "metadata": {},
   "outputs": [],
   "source": []
  }
 ],
 "metadata": {
  "kernelspec": {
   "display_name": "Python 3",
   "language": "python",
   "name": "python3"
  },
  "language_info": {
   "codemirror_mode": {
    "name": "ipython",
    "version": 3
   },
   "file_extension": ".py",
   "mimetype": "text/x-python",
   "name": "python",
   "nbconvert_exporter": "python",
   "pygments_lexer": "ipython3",
   "version": "3.6.5"
  },
  "latex_envs": {
   "LaTeX_envs_menu_present": true,
   "autoclose": false,
   "autocomplete": true,
   "bibliofile": "biblio.bib",
   "cite_by": "apalike",
   "current_citInitial": 1,
   "eqLabelWithNumbers": true,
   "eqNumInitial": 1,
   "hotkeys": {
    "equation": "Ctrl-E",
    "itemize": "Ctrl-I"
   },
   "labels_anchors": false,
   "latex_user_defs": false,
   "report_style_numbering": false,
   "user_envs_cfg": false
  }
 },
 "nbformat": 4,
 "nbformat_minor": 2
}
